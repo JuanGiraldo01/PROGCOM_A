{
  "nbformat": 4,
  "nbformat_minor": 0,
  "metadata": {
    "colab": {
      "provenance": [],
      "authorship_tag": "ABX9TyMQvgOBlXbs4nSHhtR4lPen",
      "include_colab_link": true
    },
    "kernelspec": {
      "name": "python3",
      "display_name": "Python 3"
    },
    "language_info": {
      "name": "python"
    }
  },
  "cells": [
    {
      "cell_type": "markdown",
      "metadata": {
        "id": "view-in-github",
        "colab_type": "text"
      },
      "source": [
        "<a href=\"https://colab.research.google.com/github/JuanGiraldo01/PROGCOM_A/blob/main/Clase_Programaci%C3%B3n_orientada_a_objetos.ipynb\" target=\"_parent\"><img src=\"https://colab.research.google.com/assets/colab-badge.svg\" alt=\"Open In Colab\"/></a>"
      ]
    },
    {
      "cell_type": "markdown",
      "source": [
        "#POO\n",
        "Paradigma de programación\n",
        "1. paradigma etructurado: se programa de arriba a abajo y se lee de izquierda a derecha.\n",
        "2. paradigma modular: Dividir un programa en módulos. Reutilizacion de codigo con el pegado dinamico.\n",
        "3. Programacion orientada a objetos: Crear objetos a partir de un molde. Al molde se le va a llamar clase.\n",
        "\n",
        "Definicion de una clase\n",
        "\n",
        ">class nombre_de_la_clase(atributos):\n",
        "\n",
        ">> Constructor: En una funcion especial donde se inicializan los atributos\n",
        ">> Todas las funciones que quieras.\n",
        "\n",
        "\n",
        "\n"
      ],
      "metadata": {
        "id": "-2tKl_I3PY9M"
      }
    },
    {
      "cell_type": "code",
      "source": [
        "#Creando la clase humana\n",
        "class humano():\n",
        "  #creando la funcion constructor\n",
        "  def __init__(self,nombre,ojos,cojos,boca,piernas,cpiel,estatura,peso,genero):\n",
        "    self.nombre=nombre\n",
        "    self.ojos=ojos\n",
        "    self.cojos=cojos\n",
        "    self.boca=boca\n",
        "    self.piernas=piernas\n",
        "    self.cpiel=cpiel\n",
        "    self.estatura=estatura\n",
        "    self.peso=peso\n",
        "    self.genero=genero\n",
        "\n",
        "  #Funcion tradicional o estatica\n",
        "  def camniar(self,vel):\n",
        "    if self.piernas>=1 and vel<=0:\n",
        "      print({self.nombre}, \"esta retrocediendo\")\n",
        "      vel=-vel\n",
        "      return vel\n",
        "    else:\n",
        "      print({self.nombre},\"va pa lante\")\n",
        "\n",
        "    if vel==0: return f\"{self.nombre} esta en estado de reposo\"\n",
        "    elif vel>0 and vel<=1: return f\"{self.nombre} esta gateando\"\n",
        "    elif vel>1 and vel<=5: return f\"{self.nombre} esta caminando\"\n",
        "    elif vel>5 and vel<=10: return f\"{self.nombre} esta trotando\"\n",
        "    elif vel>10 and vel<=20: return f\"{self.nombre} esta corriendo\"\n",
        "    elif vel>20: return f\"{self.nombre} es un amiguito de lo ajeno\"\n",
        "\n",
        "  def saltar(self,altura):\n",
        "    if self.piernas>=1 and altura<=0:\n",
        "      print({self.nombre}, \"salto para abajo\")\n",
        "      altura=-altura\n",
        "      return altura\n",
        "    else:\n",
        "      print({self.nombre},\"salta\")\n",
        "\n",
        "    if altura==0: return f\"{self.nombre} esta en estado de reposo\"\n",
        "    elif altura>0 and altura<=20: return f\"{self.nombre} salto un poco\"\n",
        "    elif altura>20 and altura<=30: return f\"{self.nombre} salto\"\n",
        "    elif altura>30 and altura<=60: return f\"{self.nombre} salto mucho\"\n",
        "    elif altura>60 and altura<=120: return f\"{self.nombre} salto muchisimo, practicamente se tiro\"\n",
        "    elif altura>120: return f\"{self.nombre} es un atleta\"\n",
        "\n",
        "\n"
      ],
      "metadata": {
        "id": "RAE0quBWR1eQ"
      },
      "execution_count": 36,
      "outputs": []
    },
    {
      "cell_type": "code",
      "source": [
        "juan=humano(\"juan\",2,\"cafe\",1,2,\"blanco\",1.7,60,\"masculino\")\n"
      ],
      "metadata": {
        "id": "wpf4NmYjR7uQ"
      },
      "execution_count": 37,
      "outputs": []
    },
    {
      "cell_type": "code",
      "source": [
        "juan.saltar(40)"
      ],
      "metadata": {
        "colab": {
          "base_uri": "https://localhost:8080/",
          "height": 53
        },
        "id": "QOSzEMQUdmvC",
        "outputId": "2fbe67ce-2931-4149-d81c-4ab6876c08b0"
      },
      "execution_count": 38,
      "outputs": [
        {
          "output_type": "stream",
          "name": "stdout",
          "text": [
            "{'juan'} salta\n"
          ]
        },
        {
          "output_type": "execute_result",
          "data": {
            "text/plain": [
              "'juan salto mucho'"
            ],
            "application/vnd.google.colaboratory.intrinsic+json": {
              "type": "string"
            }
          },
          "metadata": {},
          "execution_count": 38
        }
      ]
    },
    {
      "cell_type": "code",
      "source": [
        "juan.cojos=\"azules\""
      ],
      "metadata": {
        "id": "3RS063ELWQsb"
      },
      "execution_count": 7,
      "outputs": []
    },
    {
      "cell_type": "code",
      "source": [
        "juan.cojos"
      ],
      "metadata": {
        "colab": {
          "base_uri": "https://localhost:8080/",
          "height": 35
        },
        "id": "Rf1YXHfeWTxT",
        "outputId": "31755daa-5c52-4866-9705-ceb1cd7dcd14"
      },
      "execution_count": 8,
      "outputs": [
        {
          "output_type": "execute_result",
          "data": {
            "text/plain": [
              "'azules'"
            ],
            "application/vnd.google.colaboratory.intrinsic+json": {
              "type": "string"
            }
          },
          "metadata": {},
          "execution_count": 8
        }
      ]
    },
    {
      "cell_type": "code",
      "source": [
        "juan.peso=80"
      ],
      "metadata": {
        "id": "W4U8NaN8WYRL"
      },
      "execution_count": 13,
      "outputs": []
    },
    {
      "cell_type": "code",
      "source": [
        "juan.peso"
      ],
      "metadata": {
        "colab": {
          "base_uri": "https://localhost:8080/"
        },
        "id": "XmkGaESTW4gB",
        "outputId": "268ccc79-5161-40d7-9ad8-72b10922bbb1"
      },
      "execution_count": 14,
      "outputs": [
        {
          "output_type": "execute_result",
          "data": {
            "text/plain": [
              "80"
            ]
          },
          "metadata": {},
          "execution_count": 14
        }
      ]
    },
    {
      "cell_type": "code",
      "source": [
        "juan.peso=50"
      ],
      "metadata": {
        "id": "EQGE7ZGoWaJL"
      },
      "execution_count": 10,
      "outputs": []
    },
    {
      "cell_type": "code",
      "source": [
        "juan.peso"
      ],
      "metadata": {
        "colab": {
          "base_uri": "https://localhost:8080/"
        },
        "id": "Bh5hvQ0gW7Wa",
        "outputId": "81ca44a3-3f59-4bd1-e6e3-eb8eee9b802e"
      },
      "execution_count": 15,
      "outputs": [
        {
          "output_type": "execute_result",
          "data": {
            "text/plain": [
              "80"
            ]
          },
          "metadata": {},
          "execution_count": 15
        }
      ]
    },
    {
      "cell_type": "code",
      "source": [
        "juan.camniar(25)"
      ],
      "metadata": {
        "colab": {
          "base_uri": "https://localhost:8080/",
          "height": 53
        },
        "id": "z_e4-G54We-T",
        "outputId": "bf2d7cec-02ff-4796-805f-56b088669506"
      },
      "execution_count": 16,
      "outputs": [
        {
          "output_type": "stream",
          "name": "stdout",
          "text": [
            "{'juan'} va pa lante\n"
          ]
        },
        {
          "output_type": "execute_result",
          "data": {
            "text/plain": [
              "'juan es un amiguito de lo ajeno'"
            ],
            "application/vnd.google.colaboratory.intrinsic+json": {
              "type": "string"
            }
          },
          "metadata": {},
          "execution_count": 16
        }
      ]
    },
    {
      "cell_type": "code",
      "source": [
        "class perro():\n",
        "  def __init__(self,nombre,patas,orejas,cola,pcolor):\n",
        "    self.nombre=nombre\n",
        "    self.patas=patas\n",
        "    self.orejas=orejas\n",
        "    self.cola=cola\n",
        "    self.pcolor=pcolor\n",
        "\n",
        "  def ladrar(self):\n",
        "    print(\"GAU GAU\")\n",
        "\n",
        "  def grunir(self):\n",
        "    print(\"GRRRRRRRR GRRRRRRR\")\n"
      ],
      "metadata": {
        "id": "l8EjGEHnXDtB"
      },
      "execution_count": 21,
      "outputs": []
    },
    {
      "cell_type": "code",
      "source": [
        "class caniche(perro): #que la clase caniche puede hacer todo lo que hace la clase perro\n",
        "  def ladrarx(self):\n",
        "    print(\"guau guau guau guau guau guau\")\n",
        "\n",
        "  def grunirx(self):\n",
        "    print(\"gñii gñiii gñii\")"
      ],
      "metadata": {
        "id": "7IidQa55X2_l"
      },
      "execution_count": 22,
      "outputs": []
    },
    {
      "cell_type": "code",
      "source": [
        "class pastor_aleman(perro):\n",
        "  def xladrar(self):\n",
        "    print(\"GUAU GUAU GUAU\")\n",
        "\n",
        "  def grunir(self):\n",
        "    print(\"AGRRRR AGRRR AGRRR\")"
      ],
      "metadata": {
        "id": "FXceUZFKYta0"
      },
      "execution_count": 23,
      "outputs": []
    },
    {
      "cell_type": "code",
      "source": [
        "class rotweiller(perro):\n",
        "  def ladrarxx(self):\n",
        "    print(\"woff woff\")\n",
        ""
      ],
      "metadata": {
        "id": "DcLDs3MGZHXz"
      },
      "execution_count": 24,
      "outputs": []
    },
    {
      "cell_type": "code",
      "source": [
        "class shepadoodle(caniche,pastor_aleman):\n",
        "  def xladrar(self,veces):\n",
        "    for cuantas in range(veces):\n",
        "      super(shepadoodle,self).xladrar()\n"
      ],
      "metadata": {
        "id": "ZnjEnbfFZmmi"
      },
      "execution_count": 31,
      "outputs": []
    },
    {
      "cell_type": "code",
      "source": [
        "Tommy=pastor_aleman(\"Tommy\", 4 , 2, 1, \"marrón\")\n",
        "lulu=caniche(\"lulu\",4,2,1,\"blanca\")\n",
        "milu=shepadoodle(\"Milu\",4,2,1,\"blanco\")"
      ],
      "metadata": {
        "id": "bXnqnQWcaNbI"
      },
      "execution_count": 32,
      "outputs": []
    },
    {
      "cell_type": "code",
      "source": [
        "milu.xladrar(2)"
      ],
      "metadata": {
        "colab": {
          "base_uri": "https://localhost:8080/"
        },
        "id": "KTYD4Kb1bdX1",
        "outputId": "9aa24fac-61ca-4a27-b278-8d2c34ba7f51"
      },
      "execution_count": 33,
      "outputs": [
        {
          "output_type": "stream",
          "name": "stdout",
          "text": [
            "GUAU GUAU GUAU\n",
            "GUAU GUAU GUAU\n"
          ]
        }
      ]
    }
  ]
}