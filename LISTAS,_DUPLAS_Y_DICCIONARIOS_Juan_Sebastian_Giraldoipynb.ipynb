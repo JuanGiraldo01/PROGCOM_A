{
  "nbformat": 4,
  "nbformat_minor": 0,
  "metadata": {
    "colab": {
      "provenance": []
    },
    "kernelspec": {
      "name": "python3",
      "display_name": "Python 3"
    },
    "language_info": {
      "name": "python"
    }
  },
  "cells": [
    {
      "cell_type": "markdown",
      "source": [
        "#SECUENCIA DE DATOS\n"
      ],
      "metadata": {
        "id": "SHcbrJhhNGOk"
      }
    },
    {
      "cell_type": "markdown",
      "source": [
        "##TUPLAS\n",
        "Similar a la lista, con la salvedad que no puede modificarse.\n",
        "Se declaran indicando sus elementos, separados por *comas*"
      ],
      "metadata": {
        "id": "325LVBzsM0x7"
      }
    },
    {
      "cell_type": "code",
      "execution_count": null,
      "metadata": {
        "colab": {
          "base_uri": "https://localhost:8080/"
        },
        "id": "23GjaB68MkIG",
        "outputId": "24c74e08-7c9b-42c7-c78d-1cdc5527c421"
      },
      "outputs": [
        {
          "output_type": "execute_result",
          "data": {
            "text/plain": [
              "('primero', 'segundo', 'tercero', 'cuarto')"
            ]
          },
          "metadata": {},
          "execution_count": 1
        }
      ],
      "source": [
        "tupla=\"primero\",\"segundo\", \"tercero\", \"cuarto\"\n",
        "tupla"
      ]
    },
    {
      "cell_type": "code",
      "source": [
        "type(tupla)"
      ],
      "metadata": {
        "colab": {
          "base_uri": "https://localhost:8080/"
        },
        "id": "1EB8vGP-IZV0",
        "outputId": "3a98b9f9-0beb-40ce-be20-68b9b231f734"
      },
      "execution_count": null,
      "outputs": [
        {
          "output_type": "execute_result",
          "data": {
            "text/plain": [
              "tuple"
            ]
          },
          "metadata": {},
          "execution_count": 2
        }
      ]
    },
    {
      "cell_type": "markdown",
      "source": [
        "###Accediendo a los elementos de la tupla"
      ],
      "metadata": {
        "id": "yPn3XFg4PWpt"
      }
    },
    {
      "cell_type": "code",
      "source": [
        "#Accediendo a la lista por posición\n",
        "tupla[0]"
      ],
      "metadata": {
        "colab": {
          "base_uri": "https://localhost:8080/",
          "height": 36
        },
        "id": "-63XOgdXOzdR",
        "outputId": "9dee6561-d34e-4aa5-dd36-d98fb5fad6a1"
      },
      "execution_count": null,
      "outputs": [
        {
          "output_type": "execute_result",
          "data": {
            "text/plain": [
              "'primero'"
            ],
            "application/vnd.google.colaboratory.intrinsic+json": {
              "type": "string"
            }
          },
          "metadata": {},
          "execution_count": 3
        }
      ]
    },
    {
      "cell_type": "code",
      "source": [
        "#Accediendo a todos los elementos de la lista empleando el slicing\n",
        "tupla[:]"
      ],
      "metadata": {
        "colab": {
          "base_uri": "https://localhost:8080/"
        },
        "id": "cadWYF2xSW8L",
        "outputId": "5f024ff5-c40e-4c1c-a747-02ab8be4f85c"
      },
      "execution_count": null,
      "outputs": [
        {
          "output_type": "execute_result",
          "data": {
            "text/plain": [
              "('primero', 'segundo', 'tercero', 'cuarto')"
            ]
          },
          "metadata": {},
          "execution_count": 4
        }
      ]
    },
    {
      "cell_type": "code",
      "source": [
        "#Accediendo a los dos primeros elementos de la lista\n",
        "tupla[0:2]"
      ],
      "metadata": {
        "colab": {
          "base_uri": "https://localhost:8080/"
        },
        "id": "XsDQpQKISYiL",
        "outputId": "c12d5b1e-15a4-4ad4-85a4-f57c15f05dd2"
      },
      "execution_count": null,
      "outputs": [
        {
          "output_type": "execute_result",
          "data": {
            "text/plain": [
              "('primero', 'segundo')"
            ]
          },
          "metadata": {},
          "execution_count": 5
        }
      ]
    },
    {
      "cell_type": "code",
      "source": [
        "#Accediendo a los dos últimos elementos de la lista\n",
        "tupla[2:4]"
      ],
      "metadata": {
        "colab": {
          "base_uri": "https://localhost:8080/"
        },
        "id": "RNcXanPzTB7u",
        "outputId": "41716b4b-cbf1-4a93-b2af-afbc286dbe74"
      },
      "execution_count": null,
      "outputs": [
        {
          "output_type": "execute_result",
          "data": {
            "text/plain": [
              "('tercero', 'cuarto')"
            ]
          },
          "metadata": {},
          "execution_count": 6
        }
      ]
    },
    {
      "cell_type": "code",
      "source": [
        "tupla=\"primero\",\"segundo\", \"tercero\", \"cuarto\"\n",
        "#Existe otra forma para acceder a los dos últimos elementos de la lista?. Coloque la línea de código que hace esto.\n",
        "tupla[-2:]\n"
      ],
      "metadata": {
        "id": "Eg2ZIr5DTnFJ",
        "colab": {
          "base_uri": "https://localhost:8080/"
        },
        "outputId": "5b53c5a0-94a3-4c0d-c402-022734bc0889"
      },
      "execution_count": 2,
      "outputs": [
        {
          "output_type": "execute_result",
          "data": {
            "text/plain": [
              "('tercero', 'cuarto')"
            ]
          },
          "metadata": {},
          "execution_count": 2
        }
      ]
    },
    {
      "cell_type": "code",
      "source": [
        "#Qué pasará cuando se usa un índice negativo? Ejemplo: tupla[-4], tupla[-3]\n",
        "#tupla[-4]: Intentas acceder al cuarto elemento desde el final.\n",
        "#tupla[-3]: Intentas acceder al tercer elemento desde el final"
      ],
      "metadata": {
        "id": "_0cx4i7CVF_6"
      },
      "execution_count": null,
      "outputs": []
    },
    {
      "cell_type": "code",
      "source": [
        "#Cómo podría saberse la posición de la tupla que ocupa un elemento?\n",
        "#con el metodo \"index()\"\n",
        "#Escriba el código que permita ingresar un elemento de la lista, e imprima la posición del elemento de la lista\n",
        "tupla = (\"primero\", \"segundo\", \"tercero\", \"cuarto\")\n",
        "\n",
        "elemento= input(\"Ingrese un elemento: \")\n",
        "\n",
        "x= tupla.index(elemento)\n",
        "print(f\"La posición de '{elemento}' en la tupla es: {x}\")\n",
        "\n"
      ],
      "metadata": {
        "id": "AFYUJpJCQG9p",
        "colab": {
          "base_uri": "https://localhost:8080/"
        },
        "outputId": "fe2a2a90-948b-43c5-a3b8-ed8ceba0dd65"
      },
      "execution_count": 8,
      "outputs": [
        {
          "output_type": "stream",
          "name": "stdout",
          "text": [
            "Ingrese un elemento: primero\n",
            "La posición de 'primero' en la tupla es: 0\n"
          ]
        }
      ]
    },
    {
      "cell_type": "code",
      "source": [
        "#Cómo imprimir los elementos de posición par en una tupla? Para ello, cree una tupla de 12 elementos (en dos líneas de código)\n",
        "tupla = (1, 2, 3, 4, 5, 6, 7, 8, 9, 10, 11, 12)\n",
        "for i in range(1, len(tupla), 2):\n",
        "    print(tupla[i])"
      ],
      "metadata": {
        "colab": {
          "base_uri": "https://localhost:8080/"
        },
        "id": "P8Nxxc06JAId",
        "outputId": "8cee9820-9f93-43ad-aedd-a82138a6ffea"
      },
      "execution_count": 9,
      "outputs": [
        {
          "output_type": "stream",
          "name": "stdout",
          "text": [
            "2\n",
            "4\n",
            "6\n",
            "8\n",
            "10\n",
            "12\n"
          ]
        }
      ]
    },
    {
      "cell_type": "markdown",
      "source": [
        "##Diccionarios\n",
        "Conjunto de valores emparejados. Es parecido a una lista pero su diferencia recide en que no tiene índices numéricos. Sus índices pueden ser cadenas, tuplas, o mezcla de ellas.\n",
        "Al definir un diccionario, los valores de cada par se separan entre ellos con dos puntos (:), y de los otros pares por comas (,). El conjunto debe estar acotado por llaves {}"
      ],
      "metadata": {
        "id": "OPiv0fe4R8__"
      }
    },
    {
      "cell_type": "code",
      "source": [
        "#Creando un diccionario vacío\n",
        "dic={}"
      ],
      "metadata": {
        "id": "cOFDzAILJ_PB"
      },
      "execution_count": null,
      "outputs": []
    },
    {
      "cell_type": "code",
      "source": [
        "type (dic)"
      ],
      "metadata": {
        "colab": {
          "base_uri": "https://localhost:8080/"
        },
        "id": "roqwOhrhKD0u",
        "outputId": "c15a5ca4-737e-40da-9966-6b0840cefb46"
      },
      "execution_count": null,
      "outputs": [
        {
          "output_type": "execute_result",
          "data": {
            "text/plain": [
              "dict"
            ]
          },
          "metadata": {},
          "execution_count": 17
        }
      ]
    },
    {
      "cell_type": "code",
      "source": [
        "#Creando un diccionario\n",
        "dic={\"animal\":\"gato\", \"cosa\": \"piedra\", \"planta\":\"girasol\"}\n",
        "dic"
      ],
      "metadata": {
        "colab": {
          "base_uri": "https://localhost:8080/"
        },
        "id": "IWcP-gdYKKfX",
        "outputId": "4bae9704-a9b6-4c22-dd54-5e6d1536cf81"
      },
      "execution_count": null,
      "outputs": [
        {
          "output_type": "execute_result",
          "data": {
            "text/plain": [
              "{'animal': 'gato', 'cosa': 'piedra', 'planta': 'girasol'}"
            ]
          },
          "metadata": {},
          "execution_count": 20
        }
      ]
    },
    {
      "cell_type": "code",
      "source": [
        "#Llamando un elemento del diccionario\n",
        "dic[\"animal\"]"
      ],
      "metadata": {
        "id": "sgr461D-SAqe",
        "colab": {
          "base_uri": "https://localhost:8080/",
          "height": 36
        },
        "outputId": "b633888e-c731-4650-cadb-e412da170c9e"
      },
      "execution_count": null,
      "outputs": [
        {
          "output_type": "execute_result",
          "data": {
            "text/plain": [
              "'gato'"
            ],
            "application/vnd.google.colaboratory.intrinsic+json": {
              "type": "string"
            }
          },
          "metadata": {},
          "execution_count": 21
        }
      ]
    },
    {
      "cell_type": "code",
      "source": [
        "#Cómo podrían llamarse los otros elementos del diccionario?\n",
        "# dic[\"cosa\"] para acceder a \"piedra\" asociado a \"cosa\"\n",
        "# dic[\"planta\"] para acceder a \"girasol\" asociado a \"planta\""
      ],
      "metadata": {
        "id": "kfp0ecWtKreC"
      },
      "execution_count": null,
      "outputs": []
    },
    {
      "cell_type": "code",
      "source": [
        "#Los diccionarios también pueden crearse explísitamente usando la función dict()\n",
        "dict2=dict(animal=[\"perro\", \"gato\", \"culebra\"], colores=\"azul\")\n",
        "#Arregle el error de impresión!! :O\n",
        "print (dict2)"
      ],
      "metadata": {
        "colab": {
          "base_uri": "https://localhost:8080/"
        },
        "id": "Alu-wPEfKwll",
        "outputId": "f594c089-77c5-467e-ca51-6219dee6f624"
      },
      "execution_count": 10,
      "outputs": [
        {
          "output_type": "stream",
          "name": "stdout",
          "text": [
            "{'animal': ['perro', 'gato', 'culebra'], 'colores': 'azul'}\n"
          ]
        }
      ]
    },
    {
      "cell_type": "markdown",
      "source": [
        "**OJO!** Las claves del diccionario no pueden repetirse. Si se crea un diccionario con claves repetidas, la última siempre reemplazará a cualquier anterior"
      ],
      "metadata": {
        "id": "v97g8cGkLgCL"
      }
    },
    {
      "cell_type": "code",
      "source": [
        "superhéroe={\"nombre\":\"Clark Kent\", \"nombre\": \"Superman\", \"Ciudad\": \"Metrópolis\"}\n",
        "superhéroe"
      ],
      "metadata": {
        "colab": {
          "base_uri": "https://localhost:8080/"
        },
        "id": "Bq0O62caLocs",
        "outputId": "74923190-0993-427d-ece8-15724fc47d8e"
      },
      "execution_count": null,
      "outputs": [
        {
          "output_type": "execute_result",
          "data": {
            "text/plain": [
              "{'nombre': 'Superman', 'Ciudad': 'Metrópolis'}"
            ]
          },
          "metadata": {},
          "execution_count": 26
        }
      ]
    },
    {
      "cell_type": "code",
      "source": [
        "#Se puede convertir de diccionario a lista? De diccionario a dupla? Cómo? Qué observa?\n"
      ],
      "metadata": {
        "id": "yRqyyEQNMqgX"
      },
      "execution_count": 17,
      "outputs": []
    },
    {
      "cell_type": "code",
      "source": [
        "#Se puede convertir de lista a diccionario? lista a dupla? Cómo? Qué observa?\n"
      ],
      "metadata": {
        "id": "160jkTu_M0K-"
      },
      "execution_count": null,
      "outputs": []
    },
    {
      "cell_type": "code",
      "source": [
        "#Se puede convertir de dupla a diccionario? dupla a Lista? Cómo? Qué observa?\n"
      ],
      "metadata": {
        "id": "lhcUq7Z9M2t0"
      },
      "execution_count": null,
      "outputs": []
    },
    {
      "cell_type": "code",
      "source": [
        "#Recuerda este ejercicio? Cómo podría resolverse con diccionario?\n",
        "#Cómo se podría crear una matriz? Ingrese el código que permita generar una matriz 3x2, siendo la primera fila \"Nombre\", \"Peso\", \"Altura\"\n",
        "#y diligencie la segunda fila con números\n",
        "#Llame a esa matriz calculo_IMC\n",
        "#Debe imprimir\n",
        "#Nombre  Peso[kg] Altura[m]\n",
        "#\"Sofía\"    57      1.65\n",
        "\n",
        "calculo_IMC = {\n",
        "    \"Nombre\": \"Sofía\",\n",
        "    \"Peso[kg]\": 57,\n",
        "    \"Altura[m]\": 1.65\n",
        "}\n",
        "\n",
        "print(\"Nombre  Peso[kg] Altura[m]\")\n",
        "print(f'\"{calculo_IMC[\"Nombre\"]}\"    {calculo_IMC[\"Peso[kg]\"]}      {calculo_IMC[\"Altura[m]\"]}')\n",
        "\n",
        "\n"
      ],
      "metadata": {
        "id": "NnNEsFRbaUul",
        "colab": {
          "base_uri": "https://localhost:8080/"
        },
        "outputId": "fa4ae0cc-71aa-478d-e2b8-9fa5021417fb"
      },
      "execution_count": 11,
      "outputs": [
        {
          "output_type": "stream",
          "name": "stdout",
          "text": [
            "Nombre  Peso[kg] Altura[m]\n",
            "\"Sofía\"    57      1.65\n"
          ]
        }
      ]
    },
    {
      "cell_type": "code",
      "source": [
        "#Genere una cuarta columna para la matriz IMC, que tenga como nombre IMC y calcule el índice de masa corporal. Esto es:\n",
        "#Nombre  Peso[kg] Altura[m]  IMC\n",
        "#\"Sofía\"    57      1.65     (agrege aquí el resultado del cálculo)\n",
        "\n",
        "\n",
        "\n"
      ],
      "metadata": {
        "id": "UZ_ueaXJdJsT"
      },
      "execution_count": null,
      "outputs": []
    },
    {
      "cell_type": "code",
      "source": [
        "#Genere una quinta columna en la matriz calculo_IMC que emita una descripción obtenida del IMC. Esto es:\n",
        "#Nombre  Peso[kg] Altura[m]  IMC        Descripción\n",
        "#\"Sofía\"    57      1.65     (calculo)  (Dependiendo del IMC debe registrar peso normal, sobrepeso, obesidad tipo I, obesidad tipo II... etc.\n",
        "# Agregar el cálculo del IMC al diccionario\n",
        "calculo_IMC[\"IMC\"] = calculo_IMC[\"Peso[kg]\"] / (calculo_IMC[\"Altura[m]\"] ** 2)\n",
        "def descripcion(imc):\n",
        "    if imc < 18.5:\n",
        "        return \"Bajo peso\"\n",
        "    elif 18.5 <= imc < 24.9:\n",
        "        return \"Peso normal\"\n",
        "    elif 24.9 <= imc < 29.9:\n",
        "        return \"Sobrepeso\"\n",
        "    elif 29.9 <= imc < 34.9:\n",
        "        return \"Obesidad tipo I\"\n",
        "    elif 34.9 <= imc < 39.9:\n",
        "        return \"Obesidad tipo II\"\n",
        "    elif 39.9 <= imc < 49.9:\n",
        "        return \"Obesidad tipo III\"\n",
        "    else:\n",
        "        return \"Obesidad tipo IV o mayor\"\n",
        "calculo_IMC[\"Descripción\"] = descripcion(calculo_IMC[\"IMC\"])\n",
        "\n",
        "\n",
        "print(\"Nombre  Peso[kg] Altura[m]  IMC        Descripción\")\n",
        "print(f'\"{calculo_IMC[\"Nombre\"]}\"    {calculo_IMC[\"Peso[kg]\"]}      {calculo_IMC[\"Altura[m]\"]}     {calculo_IMC[\"IMC\"]:.2f}      {calculo_IMC[\"Descripción\"]}')\n",
        "\n",
        "\n",
        "\n"
      ],
      "metadata": {
        "id": "cgQqg0YJffSH",
        "colab": {
          "base_uri": "https://localhost:8080/"
        },
        "outputId": "fbcc3b1a-4411-4947-de8b-97bbf55b4962"
      },
      "execution_count": 12,
      "outputs": [
        {
          "output_type": "stream",
          "name": "stdout",
          "text": [
            "Nombre  Peso[kg] Altura[m]  IMC        Descripción\n",
            "\"Sofía\"    57      1.65     20.94      Peso normal\n"
          ]
        }
      ]
    },
    {
      "cell_type": "code",
      "source": [
        "#Conocer el tamaño del diccionario\n",
        "len(dic)"
      ],
      "metadata": {
        "colab": {
          "base_uri": "https://localhost:8080/"
        },
        "id": "KZ5QnAzbaH_v",
        "outputId": "f3ac1a7d-85e8-4a84-d4eb-0d9612d17a1e"
      },
      "execution_count": null,
      "outputs": [
        {
          "output_type": "execute_result",
          "data": {
            "text/plain": [
              "3"
            ]
          },
          "metadata": {},
          "execution_count": 31
        }
      ]
    },
    {
      "cell_type": "code",
      "source": [
        "#Cómo conocer el tamaño de una dupla?\n",
        "tupla = (1, 2, 3, 4, 5)\n",
        "tamaño = len(tupla)\n",
        "print(f\"El tamaño de la tupla es {tamaño}\")"
      ],
      "metadata": {
        "id": "rb_y79cQNXqh",
        "colab": {
          "base_uri": "https://localhost:8080/"
        },
        "outputId": "4abf6aa0-e00b-478e-8f12-749688c6624e"
      },
      "execution_count": 13,
      "outputs": [
        {
          "output_type": "stream",
          "name": "stdout",
          "text": [
            "El tamaño de la tupla es 5\n"
          ]
        }
      ]
    },
    {
      "cell_type": "code",
      "source": [
        "#Llenar una lista vacía\n",
        "ejemplo.append(\"Hola\")"
      ],
      "metadata": {
        "id": "JsgmYIkuSVFj"
      },
      "execution_count": null,
      "outputs": []
    },
    {
      "cell_type": "code",
      "source": [
        "#Agregar elementos a un diccionario\n",
        "ejemplo={\"fruta\":[\"banana\",\"sandía\"],\"número\":(4, 5),\"tipo\": False}\n",
        "ejemplo\n",
        "#Qué tipo de datos conforma ejemplo?, menciónelos por clave\n",
        "#fruta = tipo de dato\n",
        "#número = tipo de dato\n",
        "#tipo = tipo de dato"
      ],
      "metadata": {
        "colab": {
          "base_uri": "https://localhost:8080/"
        },
        "id": "q6LTGURtY_RM",
        "outputId": "c3d59507-f56e-442a-8bee-423c519596e1"
      },
      "execution_count": null,
      "outputs": [
        {
          "output_type": "execute_result",
          "data": {
            "text/plain": [
              "{'fruta': ['banana', 'sandía'], 'número': (4, 5), 'tipo': False}"
            ]
          },
          "metadata": {},
          "execution_count": 35
        }
      ]
    },
    {
      "cell_type": "code",
      "source": [
        "#Agregando elementos al diccionario\n",
        "ejemplo[\"héroe\"]=\"Superman\"\n",
        "ejemplo"
      ],
      "metadata": {
        "colab": {
          "base_uri": "https://localhost:8080/"
        },
        "id": "bM2VBzLIOSBy",
        "outputId": "48a8152a-0d0d-404d-de71-7e7952921b6c"
      },
      "execution_count": null,
      "outputs": [
        {
          "output_type": "execute_result",
          "data": {
            "text/plain": [
              "{'fruta': ['banana', 'sandía'],\n",
              " 'número': (4, 5),\n",
              " 'tipo': False,\n",
              " 'héroe': 'Superman'}"
            ]
          },
          "metadata": {},
          "execution_count": 36
        }
      ]
    },
    {
      "cell_type": "code",
      "source": [
        "#Eliminar un elemento del diccionario\n",
        "del ejemplo[\"héroe\"]\n",
        "ejemplo"
      ],
      "metadata": {
        "colab": {
          "base_uri": "https://localhost:8080/"
        },
        "id": "p_o0X4fKZw0k",
        "outputId": "ce664fe5-b254-46c8-cce7-a2e0e4f7fbd0"
      },
      "execution_count": null,
      "outputs": [
        {
          "output_type": "execute_result",
          "data": {
            "text/plain": [
              "{'fruta': ['banana', 'sandía'], 'número': (4, 5), 'tipo': False}"
            ]
          },
          "metadata": {},
          "execution_count": 37
        }
      ]
    },
    {
      "cell_type": "code",
      "source": [
        "#Inclusive, puede eliminarse el diccionario!!\n",
        "del ejemplo"
      ],
      "metadata": {
        "id": "Of_BSQMwPsFG",
        "colab": {
          "base_uri": "https://localhost:8080/",
          "height": 193
        },
        "outputId": "7f9676a6-8b5d-4b9f-8057-3772e4655f39"
      },
      "execution_count": 16,
      "outputs": [
        {
          "output_type": "error",
          "ename": "NameError",
          "evalue": "ignored",
          "traceback": [
            "\u001b[0;31m---------------------------------------------------------------------------\u001b[0m",
            "\u001b[0;31mNameError\u001b[0m                                 Traceback (most recent call last)",
            "\u001b[0;32m<ipython-input-16-93af39c03194>\u001b[0m in \u001b[0;36m<cell line: 2>\u001b[0;34m()\u001b[0m\n\u001b[1;32m      1\u001b[0m \u001b[0;31m#Inclusive, puede eliminarse el diccionario!!\u001b[0m\u001b[0;34m\u001b[0m\u001b[0;34m\u001b[0m\u001b[0m\n\u001b[0;32m----> 2\u001b[0;31m \u001b[0;32mdel\u001b[0m \u001b[0mejemplo\u001b[0m\u001b[0;34m\u001b[0m\u001b[0;34m\u001b[0m\u001b[0m\n\u001b[0m",
            "\u001b[0;31mNameError\u001b[0m: name 'ejemplo' is not defined"
          ]
        }
      ]
    },
    {
      "cell_type": "code",
      "source": [
        "#Podría explicar el error generado?\n",
        "#\"ejemplo\" no tiene una lista asociada\n",
        "ejemplo"
      ],
      "metadata": {
        "colab": {
          "base_uri": "https://localhost:8080/",
          "height": 189
        },
        "id": "ODz7MJvbbh8e",
        "outputId": "40840828-ab2f-4672-b863-d188e4c66700"
      },
      "execution_count": null,
      "outputs": [
        {
          "output_type": "error",
          "ename": "NameError",
          "evalue": "ignored",
          "traceback": [
            "\u001b[0;31m---------------------------------------------------------------------------\u001b[0m",
            "\u001b[0;31mNameError\u001b[0m                                 Traceback (most recent call last)",
            "\u001b[0;32m<ipython-input-39-75b5041f5f45>\u001b[0m in \u001b[0;36m<module>\u001b[0;34m\u001b[0m\n\u001b[1;32m      1\u001b[0m \u001b[0;31m#Podría explicar el error generado?\u001b[0m\u001b[0;34m\u001b[0m\u001b[0;34m\u001b[0m\u001b[0;34m\u001b[0m\u001b[0m\n\u001b[0;32m----> 2\u001b[0;31m \u001b[0mejemplo\u001b[0m\u001b[0;34m\u001b[0m\u001b[0;34m\u001b[0m\u001b[0m\n\u001b[0m",
            "\u001b[0;31mNameError\u001b[0m: name 'ejemplo' is not defined"
          ]
        }
      ]
    },
    {
      "cell_type": "markdown",
      "source": [
        "### EJERCICIO PARA ELIMINAR UN QUEST OBLIGATORIO ☝\n",
        "\n",
        "![Texto alternativo](https://cdn.memegenerator.es/imagenes/memes/full/28/50/28507442.jpg)\n",
        "\n",
        "Realiza el ejercicio propuesto de forma correcta antes de que acabe el tiempo, y hazte acreedor@ de eliminar un quest obligatorio ✨"
      ],
      "metadata": {
        "id": "hmS_3bTvgCph"
      }
    },
    {
      "cell_type": "code",
      "source": [
        "# Revise la página https://www.researchgate.net/publication/273298847_Piedra_Papel_Tijera_y_sus_generalizaciones\n",
        "#Programe Piedra, papel, tijera, spock, lagarto, Papa y heavy usando arreglos.\n",
        "import random\n",
        "elementos = [\"piedra\", \"papel\", \"tijera\", \"lagarto\", \"spock\", \"papa\", \"heavy\"]\n",
        "\n",
        "relaciones = [\n",
        "    [0, -1, 1, 1, -1, 1, -1],  # piedra\n",
        "    [1, 0, -1, -1, 1, -1, 1],  # papel\n",
        "    [-1, 1, 0, 1, -1, 1, -1],  # tijera\n",
        "    [-1, 1, -1, 0, 1, 1, -1],  # lagarto\n",
        "    [1, -1, 1, -1, 0, -1, 1],  # spock\n",
        "    [-1, 1, -1, -1, 1, 0, 1],  # papa\n",
        "    [1, -1, 1, 1, -1, -1, 0]   # heavy\n",
        "]\n",
        "\n",
        "def jugar(usuario_choice):\n",
        "\n",
        "    comp_choice = random.choice(elementos)\n",
        "\n",
        "    usuario_index = elementos.index(usuario_choice)\n",
        "    comp_index = elementos.index(comp_choice)\n",
        "\n",
        "    resultado = relaciones[usuario_index][comp_index]\n",
        "    if resultado == 0:\n",
        "        return f\"Empate. Ambos eligieron {usuario_choice}.\"\n",
        "    elif resultado == 1:\n",
        "        return f\"Ganaste. {usuario_choice} vence a {comp_choice}.\"\n",
        "    else:\n",
        "        return f\"Perdiste. {comp_choice} vence a {usuario_choice}.\"\n",
        "\n",
        "usuario_choice = input(\"Elige tu opción (piedra, papel, tijera, lagarto, spock, papa, heavy): \").lower()\n",
        "if usuario_choice in elementos:\n",
        "    resultado = jugar(usuario_choice)\n",
        "    print(resultado)\n",
        "else:\n",
        "    print(\"Opción no válida. Introduce una opción válida del juego.\")"
      ],
      "metadata": {
        "id": "p0SGwGpNgBaz"
      },
      "execution_count": null,
      "outputs": []
    },
    {
      "cell_type": "code",
      "source": [
        "dic={\"comida\":[\"Combo 1\", \"Combo 2\", \"Combo 3\"], \"precio combo\":[10000,20000,30000],\"bebida\":[\"Gaseosa\", \"Cerveza\", \"Agua\"]}\n",
        "dic[\"comida\"][0]"
      ],
      "metadata": {
        "colab": {
          "base_uri": "https://localhost:8080/",
          "height": 35
        },
        "id": "xLXqw4b8COMX",
        "outputId": "2ac365f3-85b9-4a84-e3c9-5b0c9c8c4545"
      },
      "execution_count": null,
      "outputs": [
        {
          "output_type": "execute_result",
          "data": {
            "text/plain": [
              "'Combo 1'"
            ],
            "application/vnd.google.colaboratory.intrinsic+json": {
              "type": "string"
            }
          },
          "metadata": {},
          "execution_count": 3
        }
      ]
    }
  ]
}