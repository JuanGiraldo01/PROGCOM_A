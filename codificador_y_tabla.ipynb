{
  "nbformat": 4,
  "nbformat_minor": 0,
  "metadata": {
    "colab": {
      "provenance": []
    },
    "kernelspec": {
      "name": "python3",
      "display_name": "Python 3"
    },
    "language_info": {
      "name": "python"
    }
  },
  "cells": [
    {
      "cell_type": "code",
      "execution_count": 24,
      "metadata": {
        "colab": {
          "base_uri": "https://localhost:8080/"
        },
        "id": "o2-OdR0AJi1X",
        "outputId": "ff6b3f97-254e-4de1-af07-156290001c41"
      },
      "outputs": [
        {
          "output_type": "stream",
          "name": "stdout",
          "text": [
            "Ingrese una palabra: dos\n",
            "fit\n"
          ]
        }
      ],
      "source": [
        "def codificador(palabra):\n",
        "    alfabeto = 'abcdefghijklmnopqrstuvwxyz'\n",
        "    vocales = 'aeiou'\n",
        "    consonantes = 'bcdfghjklmnpqrstvwxyz'\n",
        "    palabra_encriptada = \"\"\n",
        "\n",
        "    for letra in palabra:\n",
        "        if letra.lower() in consonantes:\n",
        "            index = consonantes.index(letra.lower())\n",
        "            palabra_encriptada += consonantes[(index + 1)] if letra.islower() else consonantes[(index + 1) ].upper()\n",
        "        elif letra.lower() in vocales:\n",
        "            index = vocales.index(letra.lower())\n",
        "            palabra_encriptada += vocales[(index - 1)] if letra.islower() else vocales[(index - 1)].upper()\n",
        "        else:\n",
        "            palabra_encriptada += letra\n",
        "\n",
        "    return palabra_encriptada\n",
        "\n",
        "\n",
        "\n",
        "palabra_usuario = input(\"Ingrese una palabra: \")\n",
        "\n",
        "\n",
        "resultado = codificador(palabra_usuario)\n",
        "print(resultado)\n",
        "\n"
      ]
    },
    {
      "cell_type": "code",
      "source": [
        "import pandas as pd\n",
        "import math\n",
        "def calcular_imc(peso,altura):\n",
        "    altura_m = altura / 100\n",
        "\n",
        "    return math.trunc(peso / altura_m ** 2)\n",
        "def caracterización_imc(imc):\n",
        "    if math.trunc(imc < 18.5):\n",
        "        return 'Bajo peso'\n",
        "    elif math.trunc(18.5 <= imc < 25):\n",
        "        return 'Normal'\n",
        "    elif math.trunc(25 <= imc < 30):\n",
        "        return 'Sobrepeso'\n",
        "    else:\n",
        "        return 'Obeso'\n",
        "n = int(input(\"Ingrese el número de personas: \"))\n",
        "data = {'Nombre': [], 'Peso_kg': [], 'Altura_cm': [], 'IMC': [], 'Caracterización': []}\n",
        "for i in range(n):\n",
        "    data[\"Nombre\"].append(input(f\"Ingrese el nombre de la persona {i + 1}: \"))\n",
        "    data[\"Peso_kg\"].append(float(input(\"Ingrese el peso en kilogramos \" )))\n",
        "    data[\"Altura_cm\"].append(float(input(\"Ingrese la altura en centímetros:\" )))\n",
        "    a=calcular_imc(data[\"Peso_kg\"], data[\"Altura_cm\"])\n",
        "\n",
        "    data[\"IMC\"].append(a)\n",
        "    data[\"Caracterización\"].append ( caracterización_imc(data[\"IMC\"][i]))\n",
        "\n",
        "\n",
        "\n",
        "\n",
        ""
      ],
      "metadata": {
        "colab": {
          "base_uri": "https://localhost:8080/",
          "height": 436
        },
        "id": "NYiMBnLHVHMx",
        "outputId": "481ed5ff-7053-4fcd-9a8f-cd44463a7f7c"
      },
      "execution_count": 34,
      "outputs": [
        {
          "name": "stdout",
          "output_type": "stream",
          "text": [
            "Ingrese el número de personas: 1\n",
            "Ingrese el nombre de la persona 1: juan\n",
            "Ingrese el peso en kilogramos 72\n",
            "Ingrese la altura en centímetros:180\n"
          ]
        },
        {
          "output_type": "error",
          "ename": "TypeError",
          "evalue": "ignored",
          "traceback": [
            "\u001b[0;31m---------------------------------------------------------------------------\u001b[0m",
            "\u001b[0;31mTypeError\u001b[0m                                 Traceback (most recent call last)",
            "\u001b[0;32m<ipython-input-34-34d7b2c192dc>\u001b[0m in \u001b[0;36m<cell line: 18>\u001b[0;34m()\u001b[0m\n\u001b[1;32m     20\u001b[0m     \u001b[0mdata\u001b[0m\u001b[0;34m[\u001b[0m\u001b[0;34m\"Peso_kg\"\u001b[0m\u001b[0;34m]\u001b[0m\u001b[0;34m.\u001b[0m\u001b[0mappend\u001b[0m\u001b[0;34m(\u001b[0m\u001b[0mfloat\u001b[0m\u001b[0;34m(\u001b[0m\u001b[0minput\u001b[0m\u001b[0;34m(\u001b[0m\u001b[0;34m\"Ingrese el peso en kilogramos \"\u001b[0m \u001b[0;34m)\u001b[0m\u001b[0;34m)\u001b[0m\u001b[0;34m)\u001b[0m\u001b[0;34m\u001b[0m\u001b[0;34m\u001b[0m\u001b[0m\n\u001b[1;32m     21\u001b[0m     \u001b[0mdata\u001b[0m\u001b[0;34m[\u001b[0m\u001b[0;34m\"Altura_cm\"\u001b[0m\u001b[0;34m]\u001b[0m\u001b[0;34m.\u001b[0m\u001b[0mappend\u001b[0m\u001b[0;34m(\u001b[0m\u001b[0mfloat\u001b[0m\u001b[0;34m(\u001b[0m\u001b[0minput\u001b[0m\u001b[0;34m(\u001b[0m\u001b[0;34m\"Ingrese la altura en centímetros:\"\u001b[0m \u001b[0;34m)\u001b[0m\u001b[0;34m)\u001b[0m\u001b[0;34m)\u001b[0m\u001b[0;34m\u001b[0m\u001b[0;34m\u001b[0m\u001b[0m\n\u001b[0;32m---> 22\u001b[0;31m     \u001b[0ma\u001b[0m\u001b[0;34m=\u001b[0m\u001b[0mcalcular_imc\u001b[0m\u001b[0;34m(\u001b[0m\u001b[0mdata\u001b[0m\u001b[0;34m[\u001b[0m\u001b[0;34m\"Peso_kg\"\u001b[0m\u001b[0;34m]\u001b[0m\u001b[0;34m,\u001b[0m \u001b[0mdata\u001b[0m\u001b[0;34m[\u001b[0m\u001b[0;34m\"Altura_cm\"\u001b[0m\u001b[0;34m]\u001b[0m\u001b[0;34m)\u001b[0m\u001b[0;34m\u001b[0m\u001b[0;34m\u001b[0m\u001b[0m\n\u001b[0m\u001b[1;32m     23\u001b[0m \u001b[0;34m\u001b[0m\u001b[0m\n\u001b[1;32m     24\u001b[0m     \u001b[0mdata\u001b[0m\u001b[0;34m[\u001b[0m\u001b[0;34m\"IMC\"\u001b[0m\u001b[0;34m]\u001b[0m\u001b[0;34m.\u001b[0m\u001b[0mappend\u001b[0m\u001b[0;34m(\u001b[0m\u001b[0ma\u001b[0m\u001b[0;34m)\u001b[0m\u001b[0;34m\u001b[0m\u001b[0;34m\u001b[0m\u001b[0m\n",
            "\u001b[0;32m<ipython-input-34-34d7b2c192dc>\u001b[0m in \u001b[0;36mcalcular_imc\u001b[0;34m(peso, altura)\u001b[0m\n\u001b[1;32m      2\u001b[0m \u001b[0;32mimport\u001b[0m \u001b[0mmath\u001b[0m\u001b[0;34m\u001b[0m\u001b[0;34m\u001b[0m\u001b[0m\n\u001b[1;32m      3\u001b[0m \u001b[0;32mdef\u001b[0m \u001b[0mcalcular_imc\u001b[0m\u001b[0;34m(\u001b[0m\u001b[0mpeso\u001b[0m\u001b[0;34m,\u001b[0m\u001b[0maltura\u001b[0m\u001b[0;34m)\u001b[0m\u001b[0;34m:\u001b[0m\u001b[0;34m\u001b[0m\u001b[0;34m\u001b[0m\u001b[0m\n\u001b[0;32m----> 4\u001b[0;31m     \u001b[0maltura_m\u001b[0m \u001b[0;34m=\u001b[0m \u001b[0maltura\u001b[0m \u001b[0;34m/\u001b[0m \u001b[0;36m100\u001b[0m\u001b[0;34m\u001b[0m\u001b[0;34m\u001b[0m\u001b[0m\n\u001b[0m\u001b[1;32m      5\u001b[0m \u001b[0;34m\u001b[0m\u001b[0m\n\u001b[1;32m      6\u001b[0m     \u001b[0;32mreturn\u001b[0m \u001b[0mmath\u001b[0m\u001b[0;34m.\u001b[0m\u001b[0mtrunc\u001b[0m\u001b[0;34m(\u001b[0m\u001b[0mpeso\u001b[0m \u001b[0;34m/\u001b[0m \u001b[0maltura_m\u001b[0m \u001b[0;34m**\u001b[0m \u001b[0;36m2\u001b[0m\u001b[0;34m)\u001b[0m\u001b[0;34m\u001b[0m\u001b[0;34m\u001b[0m\u001b[0m\n",
            "\u001b[0;31mTypeError\u001b[0m: unsupported operand type(s) for /: 'list' and 'int'"
          ]
        }
      ]
    },
    {
      "cell_type": "code",
      "source": [
        "data[\"IMC\"]"
      ],
      "metadata": {
        "colab": {
          "base_uri": "https://localhost:8080/"
        },
        "id": "ONizKlz2gk_c",
        "outputId": "135f9760-937a-4d87-b6c9-ecbc72c42f65"
      },
      "execution_count": 35,
      "outputs": [
        {
          "output_type": "execute_result",
          "data": {
            "text/plain": [
              "[]"
            ]
          },
          "metadata": {},
          "execution_count": 35
        }
      ]
    },
    {
      "cell_type": "code",
      "source": [
        "type(data[\"IMC\"][0])"
      ],
      "metadata": {
        "colab": {
          "base_uri": "https://localhost:8080/",
          "height": 175
        },
        "id": "XMTyaLVEgTus",
        "outputId": "784ab905-d8b4-4cdc-81ef-ed88fbd1abbb"
      },
      "execution_count": 30,
      "outputs": [
        {
          "output_type": "error",
          "ename": "IndexError",
          "evalue": "ignored",
          "traceback": [
            "\u001b[0;31m---------------------------------------------------------------------------\u001b[0m",
            "\u001b[0;31mIndexError\u001b[0m                                Traceback (most recent call last)",
            "\u001b[0;32m<ipython-input-30-031cdef4f188>\u001b[0m in \u001b[0;36m<cell line: 1>\u001b[0;34m()\u001b[0m\n\u001b[0;32m----> 1\u001b[0;31m \u001b[0mtype\u001b[0m\u001b[0;34m(\u001b[0m\u001b[0mdata\u001b[0m\u001b[0;34m[\u001b[0m\u001b[0;34m\"IMC\"\u001b[0m\u001b[0;34m]\u001b[0m\u001b[0;34m[\u001b[0m\u001b[0;36m0\u001b[0m\u001b[0;34m]\u001b[0m\u001b[0;34m)\u001b[0m\u001b[0;34m\u001b[0m\u001b[0;34m\u001b[0m\u001b[0m\n\u001b[0m",
            "\u001b[0;31mIndexError\u001b[0m: list index out of range"
          ]
        }
      ]
    },
    {
      "cell_type": "code",
      "source": [
        "data"
      ],
      "metadata": {
        "colab": {
          "base_uri": "https://localhost:8080/"
        },
        "id": "4QqsEgvaYgrr",
        "outputId": "6c843486-2f24-4c4c-8fb2-3743a605e331"
      },
      "execution_count": 22,
      "outputs": [
        {
          "output_type": "execute_result",
          "data": {
            "text/plain": [
              "{'Nombre': 'mario',\n",
              " 'Peso_kg': 73.0,\n",
              " 'Altura_cm': 183.0,\n",
              " 'IMC': 21,\n",
              " 'Caracterización': 'Normal'}"
            ]
          },
          "metadata": {},
          "execution_count": 22
        }
      ]
    }
  ]
}