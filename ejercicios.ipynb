{
  "nbformat": 4,
  "nbformat_minor": 0,
  "metadata": {
    "colab": {
      "provenance": []
    },
    "kernelspec": {
      "name": "python3",
      "display_name": "Python 3"
    },
    "language_info": {
      "name": "python"
    }
  },
  "cells": [
    {
      "cell_type": "code",
      "execution_count": null,
      "metadata": {
        "id": "T_W4d2_tIJeR",
        "colab": {
          "base_uri": "https://localhost:8080/"
        },
        "outputId": "28ed8c7c-699f-4fba-de52-cdc69d593da6"
      },
      "outputs": [
        {
          "output_type": "stream",
          "name": "stdout",
          "text": [
            "escriba una palabra:esternocleidomastoideo\n",
            "['e', 's', 't', 'e', 'r', 'n', 'o', 'c', 'l', 'e', 'i', 'd', 'o', 'm', 'a', 's', 't', 'o', 'i', 'd', 'e', 'o']\n"
          ]
        }
      ],
      "source": [
        "#ejercicio\n",
        "# Crear una lista con las letras de una palabra\n",
        "#Funcion\n",
        "def listapa(palabra):\n",
        "    return list(palabra)\n",
        "\n",
        "palabra = input(\"escriba una palabra:\")\n",
        "listale = listapa(palabra)\n",
        "print(listale)"
      ]
    },
    {
      "cell_type": "code",
      "source": [
        "#Lambda\n",
        "listasl = lambda palabra: list(palabra)\n",
        "\n",
        "#palabra = input(\"escriba una palabra:\")\n",
        "listale = listasl(palabra)\n",
        "print(listale)"
      ],
      "metadata": {
        "id": "dVQ2e5GAIKPL",
        "colab": {
          "base_uri": "https://localhost:8080/"
        },
        "outputId": "28b6f479-554c-460c-f478-42a6944deeec"
      },
      "execution_count": null,
      "outputs": [
        {
          "output_type": "stream",
          "name": "stdout",
          "text": [
            "['e', 's', 't', 'e', 'r', 'n', 'o', 'c', 'l', 'e', 'i', 'd', 'o', 'm', 'a', 's', 't', 'o', 'i', 'd', 'e', 'o']\n"
          ]
        }
      ]
    },
    {
      "cell_type": "code",
      "source": [
        "#comprension\n",
        "#palabra = input(\"escriba una palabra:\")\n",
        "listale = [letra for letra in palabra]\n",
        "\n",
        "print(listale)"
      ],
      "metadata": {
        "id": "FHvtFmBSIMWb",
        "colab": {
          "base_uri": "https://localhost:8080/"
        },
        "outputId": "29854653-dcf9-490a-aad4-5be92ce25ce8"
      },
      "execution_count": null,
      "outputs": [
        {
          "output_type": "stream",
          "name": "stdout",
          "text": [
            "['e', 's', 't', 'e', 'r', 'n', 'o', 'c', 'l', 'e', 'i', 'd', 'o', 'm', 'a', 's', 't', 'o', 'i', 'd', 'e', 'o']\n"
          ]
        }
      ]
    },
    {
      "cell_type": "code",
      "source": [],
      "metadata": {
        "id": "8ioZ2B25JCFP"
      },
      "execution_count": null,
      "outputs": []
    }
  ]
}