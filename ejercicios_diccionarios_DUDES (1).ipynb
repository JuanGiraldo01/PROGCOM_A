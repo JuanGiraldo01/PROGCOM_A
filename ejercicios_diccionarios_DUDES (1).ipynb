{
  "nbformat": 4,
  "nbformat_minor": 0,
  "metadata": {
    "colab": {
      "provenance": []
    },
    "kernelspec": {
      "name": "python3",
      "display_name": "Python 3"
    },
    "language_info": {
      "name": "python"
    }
  },
  "cells": [
    {
      "cell_type": "code",
      "execution_count": 2,
      "metadata": {
        "colab": {
          "base_uri": "https://localhost:8080/"
        },
        "id": "XneAkarD22ae",
        "outputId": "23a17156-5525-4977-f267-c244c883b4b0"
      },
      "outputs": [
        {
          "output_type": "stream",
          "name": "stdout",
          "text": [
            "Productos disponibles:\n",
            "1. empanada - $3000\n",
            "2. arepa con huevo  - $3000\n",
            "3. pizza - $6000\n",
            "4. avena - $2000\n",
            "5. churro - $2500\n",
            "6. flauta - $3000\n",
            "7. gaseosa litro - $5000\n",
            "8. jugo hot  - $8000\n",
            "9. speed max - $2500\n",
            "10. papa rellena - $3000\n",
            "\n",
            "Ingrese el número del producto que desea comprar (0 para salir): 6\n",
            "\n",
            "Ingrese el número del producto que desea comprar (0 para salir): 7\n",
            "\n",
            "Ingrese el número del producto que desea comprar (0 para salir): 10\n",
            "\n",
            "Ingrese el número del producto que desea comprar (0 para salir): 7\n",
            "\n",
            "Ingrese el número del producto que desea comprar (0 para salir): 0\n",
            "\n",
            "Factura:\n",
            "6 - $3000\n",
            "7 - $5000\n",
            "10 - $3000\n",
            "7 - $5000\n",
            "Total a pagar: $16000.0\n"
          ]
        }
      ],
      "source": [
        "\n",
        "productos = [\"empanada\", \"arepa con huevo \", \"pizza\", \"avena\", \"churro\",\n",
        "             \"flauta\", \"gaseosa litro\", \"jugo hot \", \"speed max\", \"papa rellena\"]\n",
        "\n",
        "\n",
        "precios = [3000, 3000, 6000, 2000, 2500, 3000, 5000, 8000, 2500, 3000]\n",
        "\n",
        "factura = []\n",
        "\n",
        "def mostrar_productos():\n",
        "    print(\"Productos disponibles:\")\n",
        "    for i in range(len(productos)):\n",
        "        print(f\"{i + 1}. {productos[i]} - ${precios[i]}\")\n",
        "\n",
        "def generar_factura():\n",
        "    print(\"\\nFactura:\")\n",
        "    total = 0.0\n",
        "    for i in range(len(factura)):\n",
        "        print(f\"{factura[i]} - ${precios[factura[i] - 1]}\")\n",
        "        total += precios[factura[i] - 1]\n",
        "    print(\"Total a pagar: $\" + str(total))\n",
        "\n",
        "mostrar_productos()\n",
        "\n",
        "while True:\n",
        "    try:\n",
        "        compra = int(input(\"\\nIngrese el número del producto que desea comprar (0 para salir): \"))\n",
        "\n",
        "        if compra == 0:\n",
        "            break\n",
        "        elif compra < 1 or compra > len(productos):\n",
        "            print(\"Número de producto no válido. Por favor, intente de nuevo.\")\n",
        "            continue\n",
        "\n",
        "        factura.append(compra)\n",
        "\n",
        "    except ValueError:\n",
        "        print(\"Entrada no válida. Por favor, ingrese un número.\")\n",
        "generar_factura()\n"
      ]
    },
    {
      "cell_type": "code",
      "source": [
        "import random\n",
        "import pandas as pd\n",
        "\n",
        "class Persona:\n",
        "    def __init__(self, nombre, pais_origen, sexo, en_guerra, interpol):\n",
        "        self.nombre = nombre\n",
        "        self.pais_origen = pais_origen\n",
        "        self.sexo = sexo\n",
        "        self.en_guerra = en_guerra\n",
        "        self.interpol = interpol\n",
        "\n",
        "    def puede_pasar(self):\n",
        "        print(f\"Nombre: {self.nombre}\")\n",
        "        print(f\"País de origen: {self.pais_origen}\")\n",
        "        print(f\"Sexo: {self.sexo}\")\n",
        "        print(f\"En guerra con Colombia: {self.en_guerra}\")\n",
        "        print(f\"Fichado por la interpol: {self.interpol}\")\n",
        "\n",
        "        decision = input(f\"¿Puede {self.nombre} pasar? (responde si o no): \").lower()\n",
        "        if decision == \"si\":\n",
        "            return True\n",
        "        else:\n",
        "            return False\n",
        "\n",
        "\n",
        "def juego():\n",
        "    data = {'nombre': ['Juan', 'Maria', 'Pablo', 'Luisa', 'Pedro'],\n",
        "            'pais_origen': ['Argentina', 'España', 'Venezuela', 'Perú', 'Ecuador'],\n",
        "            'sexo': ['M', 'F', 'M', 'F', 'M'],\n",
        "            'en_guerra': [False, False, True, False, False],\n",
        "            'interpol': [False, False, False, True, False]}\n",
        "    df = pd.DataFrame(data)\n",
        "    random.seed()\n",
        "    numero_personas = random.randint(1, len(df))\n",
        "\n",
        "    print(f\"Se le solicita a {numero_personas} personas sus papeles.\")\n",
        "\n",
        "    personas_seleccionadas = df.sample(numero_personas)\n",
        "\n",
        "    for index, persona in personas_seleccionadas.iterrows():\n",
        "        persona_obj = Persona(persona['nombre'], persona['pais_origen'], persona['sexo'], persona['en_guerra'], persona['interpol'])\n",
        "        if persona_obj.puede_pasar():\n",
        "            print(f\"{persona_obj.nombre} puede pasar.\\n\")\n",
        "        else:\n",
        "            print(f\"{persona_obj.nombre} no puede pasar.\\n\")\n",
        "\n",
        "\n",
        "if __name__ == '__main__':\n",
        "    juego()"
      ],
      "metadata": {
        "colab": {
          "base_uri": "https://localhost:8080/"
        },
        "id": "cBN-fk293ryo",
        "outputId": "7ccb9be7-1139-47ea-ebd3-700702b86033"
      },
      "execution_count": 1,
      "outputs": [
        {
          "output_type": "stream",
          "name": "stdout",
          "text": [
            "Se le solicita a 3 personas sus papeles.\n",
            "Nombre: Pablo\n",
            "País de origen: Venezuela\n",
            "Sexo: M\n",
            "En guerra con Colombia: True\n",
            "Fichado por la interpol: False\n",
            "¿Puede Pablo pasar? (responde si o no): no\n",
            "Pablo no puede pasar.\n",
            "\n",
            "Nombre: Maria\n",
            "País de origen: España\n",
            "Sexo: F\n",
            "En guerra con Colombia: False\n",
            "Fichado por la interpol: False\n",
            "¿Puede Maria pasar? (responde si o no): si\n",
            "Maria puede pasar.\n",
            "\n",
            "Nombre: Pedro\n",
            "País de origen: Ecuador\n",
            "Sexo: M\n",
            "En guerra con Colombia: False\n",
            "Fichado por la interpol: False\n",
            "¿Puede Pedro pasar? (responde si o no): si\n",
            "Pedro puede pasar.\n",
            "\n"
          ]
        }
      ]
    }
  ]
}